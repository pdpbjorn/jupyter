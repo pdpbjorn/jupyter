{
 "cells": [
  {
   "cell_type": "markdown",
   "metadata": {},
   "source": [
    "HTML, Javascript, css og alt det der\n",
    "============\n",
    "\n",
    "En lektion:\n",
    "\n"
   ]
  },
  {
   "cell_type": "markdown",
   "metadata": {},
   "source": [
    "Web-sider er HTML-dokumenter\n",
    "---------\n",
    "dvs opmærket tekst, hvor alt styres af tags i større- og mindreend-klammer\n",
    "Dokumentet indeholder Head og Body"
   ]
  },
  {
   "cell_type": "code",
   "execution_count": 22,
   "metadata": {},
   "outputs": [
    {
     "data": {
      "text/html": [
       "<html>\n",
       "<head></head>\n",
       "<body></body>\n",
       "</html>"
      ],
      "text/plain": [
       "<IPython.core.display.HTML object>"
      ]
     },
     "metadata": {},
     "output_type": "display_data"
    }
   ],
   "source": [
    "%%html\n",
    "<html>\n",
    "<head></head>\n",
    "<body></body>\n",
    "</html>"
   ]
  },
  {
   "cell_type": "code",
   "execution_count": 23,
   "metadata": {},
   "outputs": [
    {
     "data": {
      "application/javascript": [
       "\n",
       "element.append(\"<div id='citatet'></div><div id='forfatter'></div><div id='citatstat'></div>\")"
      ],
      "text/plain": [
       "<IPython.core.display.Javascript object>"
      ]
     },
     "metadata": {},
     "output_type": "display_data"
    }
   ],
   "source": [
    "%%javascript\n",
    "\n",
    "element.append(\"<div id='citatet'></div><div id='forfatter'></div><div id='citatstat'></div>\")"
   ]
  },
  {
   "cell_type": "code",
   "execution_count": 15,
   "metadata": {},
   "outputs": [
    {
     "data": {
      "text/html": [
       "<style>\n",
       "#citatet{\n",
       "    color:red;\n",
       "}\n",
       "</style>"
      ],
      "text/plain": [
       "<IPython.core.display.HTML object>"
      ]
     },
     "metadata": {},
     "output_type": "display_data"
    }
   ],
   "source": [
    "%%html\n",
    "<style>\n",
    "#citatet{\n",
    "    color:red;\n",
    "}\n",
    "</style>"
   ]
  },
  {
   "cell_type": "code",
   "execution_count": 24,
   "metadata": {},
   "outputs": [
    {
     "data": {
      "application/javascript": [
       "\n",
       "\n",
       "\t$.get( \"https://talaikis.com/api/quotes/random/\",\n",
       "\t\t\tfunction(svar){\n",
       "\t\tdocument.getElementById(\"citatet\").innerHTML = svar.quote;\n",
       "\t\tdocument.getElementById(\"forfatter\").innerHTML = svar.author;\n",
       "\t\tvar ord = svar.quote.split(\" \");\n",
       "\t\t//console.log(ord)\n",
       "\t\tvar citatstatString = \"Citatet indeholder \" +  ord.length + \" ord\"\n",
       "\t\tdocument.getElementById(\"citatstat\").innerHTML = citatstatString\n",
       "\t\t\t\n",
       "\t}\n",
       "\t\t)\n"
      ],
      "text/plain": [
       "<IPython.core.display.Javascript object>"
      ]
     },
     "metadata": {},
     "output_type": "display_data"
    }
   ],
   "source": [
    "%%javascript\n",
    "\n",
    "\n",
    "\t$.get( \"https://talaikis.com/api/quotes/random/\",\n",
    "\t\t\tfunction(svar){\n",
    "\t\tdocument.getElementById(\"citatet\").innerHTML = svar.quote;\n",
    "\t\tdocument.getElementById(\"forfatter\").innerHTML = svar.author;\n",
    "\t\tvar ord = svar.quote.split(\" \");\n",
    "\t\t//console.log(ord)\n",
    "\t\tvar citatstatString = \"Citatet indeholder \" +  ord.length + \" ord\"\n",
    "\t\tdocument.getElementById(\"citatstat\").innerHTML = citatstatString\n",
    "\t\t\t\n",
    "\t}\n",
    "\t\t)\n",
    "\n"
   ]
  },
  {
   "cell_type": "code",
   "execution_count": null,
   "metadata": {},
   "outputs": [],
   "source": []
  }
 ],
 "metadata": {
  "kernelspec": {
   "display_name": "Python 3",
   "language": "python",
   "name": "python3"
  },
  "language_info": {
   "codemirror_mode": {
    "name": "ipython",
    "version": 3
   },
   "file_extension": ".py",
   "mimetype": "text/x-python",
   "name": "python",
   "nbconvert_exporter": "python",
   "pygments_lexer": "ipython3",
   "version": "3.6.4"
  }
 },
 "nbformat": 4,
 "nbformat_minor": 2
}
